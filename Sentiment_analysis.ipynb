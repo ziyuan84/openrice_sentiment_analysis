{
 "cells": [
  {
   "cell_type": "markdown",
   "metadata": {
    "id": "VBsK5jv66zZx"
   },
   "source": [
    "# Load the data"
   ]
  },
  {
   "cell_type": "code",
   "execution_count": null,
   "metadata": {
    "colab": {
     "base_uri": "https://localhost:8080/"
    },
    "id": "xDbQF6neoSgz",
    "outputId": "d3e9841f-35e6-4e89-d494-9f941a0a69fa"
   },
   "outputs": [
    {
     "name": "stdout",
     "output_type": "stream",
     "text": [
      "Drive already mounted at /content/drive; to attempt to forcibly remount, call drive.mount(\"/content/drive\", force_remount=True).\n"
     ]
    }
   ],
   "source": [
    "# If 'openrice.csv' was saved to Google Drive:\n",
    "from google.colab import drive\n",
    "drive.mount('/content/drive')\n",
    "import pandas as pd\n",
    "df = pd.read_csv('/content/drive/My Drive/openrice.csv', encoding='utf_8')\n",
    "\n",
    "# To upload a local file, click on the folder on the left named \"Files\", then click \"Upload to session\n",
    "# storage\" and select the file.\n",
    "# If 'openrice.csv' was uploaded to Colab environment:\n",
    "# df = pd.read_csv('/content/openrice.csv', encoding='utf_8')"
   ]
  },
  {
   "cell_type": "markdown",
   "metadata": {
    "id": "nfm3kw7gw9Hl"
   },
   "source": [
    "# Inspect the data"
   ]
  },
  {
   "cell_type": "code",
   "execution_count": null,
   "metadata": {
    "colab": {
     "base_uri": "https://localhost:8080/",
     "height": 337
    },
    "id": "l_ijKggwwyuW",
    "outputId": "5f5299a8-4ecb-472a-9dd8-05f97b40e943"
   },
   "outputs": [
    {
     "data": {
      "text/html": [
       "\n",
       "\n",
       "  <div id=\"df-b0c5bf4a-7db3-4922-8b52-43646d716328\">\n",
       "    <div class=\"colab-df-container\">\n",
       "      <div>\n",
       "<style scoped>\n",
       "    .dataframe tbody tr th:only-of-type {\n",
       "        vertical-align: middle;\n",
       "    }\n",
       "\n",
       "    .dataframe tbody tr th {\n",
       "        vertical-align: top;\n",
       "    }\n",
       "\n",
       "    .dataframe thead th {\n",
       "        text-align: right;\n",
       "    }\n",
       "</style>\n",
       "<table border=\"1\" class=\"dataframe\">\n",
       "  <thead>\n",
       "    <tr style=\"text-align: right;\">\n",
       "      <th></th>\n",
       "      <th>stall</th>\n",
       "      <th>review_id</th>\n",
       "      <th>review</th>\n",
       "      <th>rating</th>\n",
       "    </tr>\n",
       "  </thead>\n",
       "  <tbody>\n",
       "    <tr>\n",
       "      <th>0</th>\n",
       "      <td>Tian Tian Hainanese Chicken Rice (Tanjong Pagar)</td>\n",
       "      <td>105570</td>\n",
       "      <td>黎到新加坡當然唔少得要去潮聖食個海南雞飯🤭 入到Maxwell food centre見到有...</td>\n",
       "      <td>1</td>\n",
       "    </tr>\n",
       "    <tr>\n",
       "      <th>1</th>\n",
       "      <td>Tian Tian Hainanese Chicken Rice (Tanjong Pagar)</td>\n",
       "      <td>104809</td>\n",
       "      <td>去到新加坡旅行，一定要食最出名嘅海南雞飯啦！ 雞飯有分S, M, L size 我同媽媽叫一...</td>\n",
       "      <td>2</td>\n",
       "    </tr>\n",
       "    <tr>\n",
       "      <th>2</th>\n",
       "      <td>Tian Tian Hainanese Chicken Rice (Tanjong Pagar)</td>\n",
       "      <td>104095</td>\n",
       "      <td>如果你去新加坡旅行或公幹，上網或YouTube 查看一下當地的美食推薦，天天海南雞飯一定是熱...</td>\n",
       "      <td>2</td>\n",
       "    </tr>\n",
       "    <tr>\n",
       "      <th>3</th>\n",
       "      <td>Tian Tian Hainanese Chicken Rice (Tanjong Pagar)</td>\n",
       "      <td>102887</td>\n",
       "      <td>自助旅遊到了牛車水區的佛牙寺，參觀完後已經十一時半有多，就順道到不遠的麥士維天天海南雞開餐。...</td>\n",
       "      <td>1</td>\n",
       "    </tr>\n",
       "    <tr>\n",
       "      <th>4</th>\n",
       "      <td>Tian Tian Hainanese Chicken Rice (Tanjong Pagar)</td>\n",
       "      <td>100588</td>\n",
       "      <td>外子喜歡吃雞肉，尤其是白切雞及豉油雞，所以每次到訪星加坡，必定吃幾頓雞飯。那天我們往牛車水遊...</td>\n",
       "      <td>1</td>\n",
       "    </tr>\n",
       "  </tbody>\n",
       "</table>\n",
       "</div>\n",
       "      <button class=\"colab-df-convert\" onclick=\"convertToInteractive('df-b0c5bf4a-7db3-4922-8b52-43646d716328')\"\n",
       "              title=\"Convert this dataframe to an interactive table.\"\n",
       "              style=\"display:none;\">\n",
       "\n",
       "  <svg xmlns=\"http://www.w3.org/2000/svg\" height=\"24px\"viewBox=\"0 0 24 24\"\n",
       "       width=\"24px\">\n",
       "    <path d=\"M0 0h24v24H0V0z\" fill=\"none\"/>\n",
       "    <path d=\"M18.56 5.44l.94 2.06.94-2.06 2.06-.94-2.06-.94-.94-2.06-.94 2.06-2.06.94zm-11 1L8.5 8.5l.94-2.06 2.06-.94-2.06-.94L8.5 2.5l-.94 2.06-2.06.94zm10 10l.94 2.06.94-2.06 2.06-.94-2.06-.94-.94-2.06-.94 2.06-2.06.94z\"/><path d=\"M17.41 7.96l-1.37-1.37c-.4-.4-.92-.59-1.43-.59-.52 0-1.04.2-1.43.59L10.3 9.45l-7.72 7.72c-.78.78-.78 2.05 0 2.83L4 21.41c.39.39.9.59 1.41.59.51 0 1.02-.2 1.41-.59l7.78-7.78 2.81-2.81c.8-.78.8-2.07 0-2.86zM5.41 20L4 18.59l7.72-7.72 1.47 1.35L5.41 20z\"/>\n",
       "  </svg>\n",
       "      </button>\n",
       "\n",
       "\n",
       "\n",
       "    <div id=\"df-f4b00a97-66fa-44ac-a74c-d697388fb38a\">\n",
       "      <button class=\"colab-df-quickchart\" onclick=\"quickchart('df-f4b00a97-66fa-44ac-a74c-d697388fb38a')\"\n",
       "              title=\"Suggest charts.\"\n",
       "              style=\"display:none;\">\n",
       "\n",
       "<svg xmlns=\"http://www.w3.org/2000/svg\" height=\"24px\"viewBox=\"0 0 24 24\"\n",
       "     width=\"24px\">\n",
       "    <g>\n",
       "        <path d=\"M19 3H5c-1.1 0-2 .9-2 2v14c0 1.1.9 2 2 2h14c1.1 0 2-.9 2-2V5c0-1.1-.9-2-2-2zM9 17H7v-7h2v7zm4 0h-2V7h2v10zm4 0h-2v-4h2v4z\"/>\n",
       "    </g>\n",
       "</svg>\n",
       "      </button>\n",
       "    </div>\n",
       "\n",
       "<style>\n",
       "  .colab-df-quickchart {\n",
       "    background-color: #E8F0FE;\n",
       "    border: none;\n",
       "    border-radius: 50%;\n",
       "    cursor: pointer;\n",
       "    display: none;\n",
       "    fill: #1967D2;\n",
       "    height: 32px;\n",
       "    padding: 0 0 0 0;\n",
       "    width: 32px;\n",
       "  }\n",
       "\n",
       "  .colab-df-quickchart:hover {\n",
       "    background-color: #E2EBFA;\n",
       "    box-shadow: 0px 1px 2px rgba(60, 64, 67, 0.3), 0px 1px 3px 1px rgba(60, 64, 67, 0.15);\n",
       "    fill: #174EA6;\n",
       "  }\n",
       "\n",
       "  [theme=dark] .colab-df-quickchart {\n",
       "    background-color: #3B4455;\n",
       "    fill: #D2E3FC;\n",
       "  }\n",
       "\n",
       "  [theme=dark] .colab-df-quickchart:hover {\n",
       "    background-color: #434B5C;\n",
       "    box-shadow: 0px 1px 3px 1px rgba(0, 0, 0, 0.15);\n",
       "    filter: drop-shadow(0px 1px 2px rgba(0, 0, 0, 0.3));\n",
       "    fill: #FFFFFF;\n",
       "  }\n",
       "</style>\n",
       "\n",
       "    <script>\n",
       "      async function quickchart(key) {\n",
       "        const containerElement = document.querySelector('#' + key);\n",
       "        const charts = await google.colab.kernel.invokeFunction(\n",
       "            'suggestCharts', [key], {});\n",
       "      }\n",
       "    </script>\n",
       "\n",
       "      <script>\n",
       "\n",
       "function displayQuickchartButton(domScope) {\n",
       "  let quickchartButtonEl =\n",
       "    domScope.querySelector('#df-f4b00a97-66fa-44ac-a74c-d697388fb38a button.colab-df-quickchart');\n",
       "  quickchartButtonEl.style.display =\n",
       "    google.colab.kernel.accessAllowed ? 'block' : 'none';\n",
       "}\n",
       "\n",
       "        displayQuickchartButton(document);\n",
       "      </script>\n",
       "      <style>\n",
       "    .colab-df-container {\n",
       "      display:flex;\n",
       "      flex-wrap:wrap;\n",
       "      gap: 12px;\n",
       "    }\n",
       "\n",
       "    .colab-df-convert {\n",
       "      background-color: #E8F0FE;\n",
       "      border: none;\n",
       "      border-radius: 50%;\n",
       "      cursor: pointer;\n",
       "      display: none;\n",
       "      fill: #1967D2;\n",
       "      height: 32px;\n",
       "      padding: 0 0 0 0;\n",
       "      width: 32px;\n",
       "    }\n",
       "\n",
       "    .colab-df-convert:hover {\n",
       "      background-color: #E2EBFA;\n",
       "      box-shadow: 0px 1px 2px rgba(60, 64, 67, 0.3), 0px 1px 3px 1px rgba(60, 64, 67, 0.15);\n",
       "      fill: #174EA6;\n",
       "    }\n",
       "\n",
       "    [theme=dark] .colab-df-convert {\n",
       "      background-color: #3B4455;\n",
       "      fill: #D2E3FC;\n",
       "    }\n",
       "\n",
       "    [theme=dark] .colab-df-convert:hover {\n",
       "      background-color: #434B5C;\n",
       "      box-shadow: 0px 1px 3px 1px rgba(0, 0, 0, 0.15);\n",
       "      filter: drop-shadow(0px 1px 2px rgba(0, 0, 0, 0.3));\n",
       "      fill: #FFFFFF;\n",
       "    }\n",
       "  </style>\n",
       "\n",
       "      <script>\n",
       "        const buttonEl =\n",
       "          document.querySelector('#df-b0c5bf4a-7db3-4922-8b52-43646d716328 button.colab-df-convert');\n",
       "        buttonEl.style.display =\n",
       "          google.colab.kernel.accessAllowed ? 'block' : 'none';\n",
       "\n",
       "        async function convertToInteractive(key) {\n",
       "          const element = document.querySelector('#df-b0c5bf4a-7db3-4922-8b52-43646d716328');\n",
       "          const dataTable =\n",
       "            await google.colab.kernel.invokeFunction('convertToInteractive',\n",
       "                                                     [key], {});\n",
       "          if (!dataTable) return;\n",
       "\n",
       "          const docLinkHtml = 'Like what you see? Visit the ' +\n",
       "            '<a target=\"_blank\" href=https://colab.research.google.com/notebooks/data_table.ipynb>data table notebook</a>'\n",
       "            + ' to learn more about interactive tables.';\n",
       "          element.innerHTML = '';\n",
       "          dataTable['output_type'] = 'display_data';\n",
       "          await google.colab.output.renderOutput(dataTable, element);\n",
       "          const docLink = document.createElement('div');\n",
       "          docLink.innerHTML = docLinkHtml;\n",
       "          element.appendChild(docLink);\n",
       "        }\n",
       "      </script>\n",
       "    </div>\n",
       "  </div>\n"
      ],
      "text/plain": [
       "                                              stall  review_id  \\\n",
       "0  Tian Tian Hainanese Chicken Rice (Tanjong Pagar)     105570   \n",
       "1  Tian Tian Hainanese Chicken Rice (Tanjong Pagar)     104809   \n",
       "2  Tian Tian Hainanese Chicken Rice (Tanjong Pagar)     104095   \n",
       "3  Tian Tian Hainanese Chicken Rice (Tanjong Pagar)     102887   \n",
       "4  Tian Tian Hainanese Chicken Rice (Tanjong Pagar)     100588   \n",
       "\n",
       "                                              review  rating  \n",
       "0  黎到新加坡當然唔少得要去潮聖食個海南雞飯🤭 入到Maxwell food centre見到有...       1  \n",
       "1  去到新加坡旅行，一定要食最出名嘅海南雞飯啦！ 雞飯有分S, M, L size 我同媽媽叫一...       2  \n",
       "2  如果你去新加坡旅行或公幹，上網或YouTube 查看一下當地的美食推薦，天天海南雞飯一定是熱...       2  \n",
       "3  自助旅遊到了牛車水區的佛牙寺，參觀完後已經十一時半有多，就順道到不遠的麥士維天天海南雞開餐。...       1  \n",
       "4  外子喜歡吃雞肉，尤其是白切雞及豉油雞，所以每次到訪星加坡，必定吃幾頓雞飯。那天我們往牛車水遊...       1  "
      ]
     },
     "execution_count": 105,
     "metadata": {},
     "output_type": "execute_result"
    }
   ],
   "source": [
    "df.head()"
   ]
  },
  {
   "cell_type": "code",
   "execution_count": null,
   "metadata": {
    "colab": {
     "base_uri": "https://localhost:8080/",
     "height": 206
    },
    "id": "inygdmHjw0LS",
    "outputId": "010fe5f1-5967-4429-a9b3-d7b625cf53ab"
   },
   "outputs": [
    {
     "data": {
      "text/html": [
       "\n",
       "\n",
       "  <div id=\"df-77c2c631-f95b-4641-8154-9d662bcc3654\">\n",
       "    <div class=\"colab-df-container\">\n",
       "      <div>\n",
       "<style scoped>\n",
       "    .dataframe tbody tr th:only-of-type {\n",
       "        vertical-align: middle;\n",
       "    }\n",
       "\n",
       "    .dataframe tbody tr th {\n",
       "        vertical-align: top;\n",
       "    }\n",
       "\n",
       "    .dataframe thead th {\n",
       "        text-align: right;\n",
       "    }\n",
       "</style>\n",
       "<table border=\"1\" class=\"dataframe\">\n",
       "  <thead>\n",
       "    <tr style=\"text-align: right;\">\n",
       "      <th></th>\n",
       "      <th>stall</th>\n",
       "      <th>review_id</th>\n",
       "      <th>review</th>\n",
       "      <th>rating</th>\n",
       "    </tr>\n",
       "  </thead>\n",
       "  <tbody>\n",
       "    <tr>\n",
       "      <th>4608</th>\n",
       "      <td>Penang Delights - S11 (Ang Mo Kio)</td>\n",
       "      <td>24398</td>\n",
       "      <td>If you are craving for a bowl of Penang style ...</td>\n",
       "      <td>2</td>\n",
       "    </tr>\n",
       "    <tr>\n",
       "      <th>4609</th>\n",
       "      <td>Penang Delights - S11 (Ang Mo Kio)</td>\n",
       "      <td>21142</td>\n",
       "      <td>The soup here is really really great, no joke....</td>\n",
       "      <td>2</td>\n",
       "    </tr>\n",
       "    <tr>\n",
       "      <th>4610</th>\n",
       "      <td>Penang Delights - S11 (Ang Mo Kio)</td>\n",
       "      <td>12885</td>\n",
       "      <td>Well, you no need to go all the way to Penang ...</td>\n",
       "      <td>2</td>\n",
       "    </tr>\n",
       "    <tr>\n",
       "      <th>4611</th>\n",
       "      <td>Penang Delights - S11 (Ang Mo Kio)</td>\n",
       "      <td>10008</td>\n",
       "      <td>This is one interesting dish. The dry penang p...</td>\n",
       "      <td>2</td>\n",
       "    </tr>\n",
       "    <tr>\n",
       "      <th>4612</th>\n",
       "      <td>Penang Delights - S11 (Ang Mo Kio)</td>\n",
       "      <td>5046</td>\n",
       "      <td>When Penang is 8 hours drive and 1 hour flight...</td>\n",
       "      <td>1</td>\n",
       "    </tr>\n",
       "  </tbody>\n",
       "</table>\n",
       "</div>\n",
       "      <button class=\"colab-df-convert\" onclick=\"convertToInteractive('df-77c2c631-f95b-4641-8154-9d662bcc3654')\"\n",
       "              title=\"Convert this dataframe to an interactive table.\"\n",
       "              style=\"display:none;\">\n",
       "\n",
       "  <svg xmlns=\"http://www.w3.org/2000/svg\" height=\"24px\"viewBox=\"0 0 24 24\"\n",
       "       width=\"24px\">\n",
       "    <path d=\"M0 0h24v24H0V0z\" fill=\"none\"/>\n",
       "    <path d=\"M18.56 5.44l.94 2.06.94-2.06 2.06-.94-2.06-.94-.94-2.06-.94 2.06-2.06.94zm-11 1L8.5 8.5l.94-2.06 2.06-.94-2.06-.94L8.5 2.5l-.94 2.06-2.06.94zm10 10l.94 2.06.94-2.06 2.06-.94-2.06-.94-.94-2.06-.94 2.06-2.06.94z\"/><path d=\"M17.41 7.96l-1.37-1.37c-.4-.4-.92-.59-1.43-.59-.52 0-1.04.2-1.43.59L10.3 9.45l-7.72 7.72c-.78.78-.78 2.05 0 2.83L4 21.41c.39.39.9.59 1.41.59.51 0 1.02-.2 1.41-.59l7.78-7.78 2.81-2.81c.8-.78.8-2.07 0-2.86zM5.41 20L4 18.59l7.72-7.72 1.47 1.35L5.41 20z\"/>\n",
       "  </svg>\n",
       "      </button>\n",
       "\n",
       "\n",
       "\n",
       "    <div id=\"df-32d416d8-4171-450e-ab19-116f19b4ed73\">\n",
       "      <button class=\"colab-df-quickchart\" onclick=\"quickchart('df-32d416d8-4171-450e-ab19-116f19b4ed73')\"\n",
       "              title=\"Suggest charts.\"\n",
       "              style=\"display:none;\">\n",
       "\n",
       "<svg xmlns=\"http://www.w3.org/2000/svg\" height=\"24px\"viewBox=\"0 0 24 24\"\n",
       "     width=\"24px\">\n",
       "    <g>\n",
       "        <path d=\"M19 3H5c-1.1 0-2 .9-2 2v14c0 1.1.9 2 2 2h14c1.1 0 2-.9 2-2V5c0-1.1-.9-2-2-2zM9 17H7v-7h2v7zm4 0h-2V7h2v10zm4 0h-2v-4h2v4z\"/>\n",
       "    </g>\n",
       "</svg>\n",
       "      </button>\n",
       "    </div>\n",
       "\n",
       "<style>\n",
       "  .colab-df-quickchart {\n",
       "    background-color: #E8F0FE;\n",
       "    border: none;\n",
       "    border-radius: 50%;\n",
       "    cursor: pointer;\n",
       "    display: none;\n",
       "    fill: #1967D2;\n",
       "    height: 32px;\n",
       "    padding: 0 0 0 0;\n",
       "    width: 32px;\n",
       "  }\n",
       "\n",
       "  .colab-df-quickchart:hover {\n",
       "    background-color: #E2EBFA;\n",
       "    box-shadow: 0px 1px 2px rgba(60, 64, 67, 0.3), 0px 1px 3px 1px rgba(60, 64, 67, 0.15);\n",
       "    fill: #174EA6;\n",
       "  }\n",
       "\n",
       "  [theme=dark] .colab-df-quickchart {\n",
       "    background-color: #3B4455;\n",
       "    fill: #D2E3FC;\n",
       "  }\n",
       "\n",
       "  [theme=dark] .colab-df-quickchart:hover {\n",
       "    background-color: #434B5C;\n",
       "    box-shadow: 0px 1px 3px 1px rgba(0, 0, 0, 0.15);\n",
       "    filter: drop-shadow(0px 1px 2px rgba(0, 0, 0, 0.3));\n",
       "    fill: #FFFFFF;\n",
       "  }\n",
       "</style>\n",
       "\n",
       "    <script>\n",
       "      async function quickchart(key) {\n",
       "        const containerElement = document.querySelector('#' + key);\n",
       "        const charts = await google.colab.kernel.invokeFunction(\n",
       "            'suggestCharts', [key], {});\n",
       "      }\n",
       "    </script>\n",
       "\n",
       "      <script>\n",
       "\n",
       "function displayQuickchartButton(domScope) {\n",
       "  let quickchartButtonEl =\n",
       "    domScope.querySelector('#df-32d416d8-4171-450e-ab19-116f19b4ed73 button.colab-df-quickchart');\n",
       "  quickchartButtonEl.style.display =\n",
       "    google.colab.kernel.accessAllowed ? 'block' : 'none';\n",
       "}\n",
       "\n",
       "        displayQuickchartButton(document);\n",
       "      </script>\n",
       "      <style>\n",
       "    .colab-df-container {\n",
       "      display:flex;\n",
       "      flex-wrap:wrap;\n",
       "      gap: 12px;\n",
       "    }\n",
       "\n",
       "    .colab-df-convert {\n",
       "      background-color: #E8F0FE;\n",
       "      border: none;\n",
       "      border-radius: 50%;\n",
       "      cursor: pointer;\n",
       "      display: none;\n",
       "      fill: #1967D2;\n",
       "      height: 32px;\n",
       "      padding: 0 0 0 0;\n",
       "      width: 32px;\n",
       "    }\n",
       "\n",
       "    .colab-df-convert:hover {\n",
       "      background-color: #E2EBFA;\n",
       "      box-shadow: 0px 1px 2px rgba(60, 64, 67, 0.3), 0px 1px 3px 1px rgba(60, 64, 67, 0.15);\n",
       "      fill: #174EA6;\n",
       "    }\n",
       "\n",
       "    [theme=dark] .colab-df-convert {\n",
       "      background-color: #3B4455;\n",
       "      fill: #D2E3FC;\n",
       "    }\n",
       "\n",
       "    [theme=dark] .colab-df-convert:hover {\n",
       "      background-color: #434B5C;\n",
       "      box-shadow: 0px 1px 3px 1px rgba(0, 0, 0, 0.15);\n",
       "      filter: drop-shadow(0px 1px 2px rgba(0, 0, 0, 0.3));\n",
       "      fill: #FFFFFF;\n",
       "    }\n",
       "  </style>\n",
       "\n",
       "      <script>\n",
       "        const buttonEl =\n",
       "          document.querySelector('#df-77c2c631-f95b-4641-8154-9d662bcc3654 button.colab-df-convert');\n",
       "        buttonEl.style.display =\n",
       "          google.colab.kernel.accessAllowed ? 'block' : 'none';\n",
       "\n",
       "        async function convertToInteractive(key) {\n",
       "          const element = document.querySelector('#df-77c2c631-f95b-4641-8154-9d662bcc3654');\n",
       "          const dataTable =\n",
       "            await google.colab.kernel.invokeFunction('convertToInteractive',\n",
       "                                                     [key], {});\n",
       "          if (!dataTable) return;\n",
       "\n",
       "          const docLinkHtml = 'Like what you see? Visit the ' +\n",
       "            '<a target=\"_blank\" href=https://colab.research.google.com/notebooks/data_table.ipynb>data table notebook</a>'\n",
       "            + ' to learn more about interactive tables.';\n",
       "          element.innerHTML = '';\n",
       "          dataTable['output_type'] = 'display_data';\n",
       "          await google.colab.output.renderOutput(dataTable, element);\n",
       "          const docLink = document.createElement('div');\n",
       "          docLink.innerHTML = docLinkHtml;\n",
       "          element.appendChild(docLink);\n",
       "        }\n",
       "      </script>\n",
       "    </div>\n",
       "  </div>\n"
      ],
      "text/plain": [
       "                                   stall  review_id  \\\n",
       "4608  Penang Delights - S11 (Ang Mo Kio)      24398   \n",
       "4609  Penang Delights - S11 (Ang Mo Kio)      21142   \n",
       "4610  Penang Delights - S11 (Ang Mo Kio)      12885   \n",
       "4611  Penang Delights - S11 (Ang Mo Kio)      10008   \n",
       "4612  Penang Delights - S11 (Ang Mo Kio)       5046   \n",
       "\n",
       "                                                 review  rating  \n",
       "4608  If you are craving for a bowl of Penang style ...       2  \n",
       "4609  The soup here is really really great, no joke....       2  \n",
       "4610  Well, you no need to go all the way to Penang ...       2  \n",
       "4611  This is one interesting dish. The dry penang p...       2  \n",
       "4612  When Penang is 8 hours drive and 1 hour flight...       1  "
      ]
     },
     "execution_count": 106,
     "metadata": {},
     "output_type": "execute_result"
    }
   ],
   "source": [
    "df.tail()"
   ]
  },
  {
   "cell_type": "code",
   "execution_count": null,
   "metadata": {
    "colab": {
     "base_uri": "https://localhost:8080/"
    },
    "id": "ERus-dM6sD_j",
    "outputId": "b8a038b5-3024-4a3f-bb21-e7c4ad1f8a7a"
   },
   "outputs": [
    {
     "data": {
      "text/plain": [
       "(4613, 4)"
      ]
     },
     "execution_count": 107,
     "metadata": {},
     "output_type": "execute_result"
    }
   ],
   "source": [
    "df.shape"
   ]
  },
  {
   "cell_type": "code",
   "execution_count": null,
   "metadata": {
    "colab": {
     "base_uri": "https://localhost:8080/",
     "height": 105
    },
    "id": "XyZTneiTw0re",
    "outputId": "66791ff8-6fbc-4fd2-8f7b-fdbc1cc6b630"
   },
   "outputs": [
    {
     "data": {
      "application/vnd.google.colaboratory.intrinsic+json": {
       "type": "string"
      },
      "text/plain": [
       "\"I dono why Singaporean is so crazy about this Laoban bean curd until i gave it a try. it was very worth the long queue waiting with sweats and the far travel to Mountbatten MRT.. the only thing that this stall sell is the cold beancurd, and you can see everyone that is queuing will buy at least 3-4packs away. The bean curd is smooth and fine, cold and refreshing, not too sweet and rich with soya flavour. it's not the usual bean curd which is poured with sugar syrup, but it is a bit similar to soya bean pudding. Anyway, the bean curd is just a heavenly food esp when it is a very hot day.\""
      ]
     },
     "execution_count": 108,
     "metadata": {},
     "output_type": "execute_result"
    }
   ],
   "source": [
    "import random\n",
    "df['review'][random.randint(0,len(df)-1)]"
   ]
  },
  {
   "cell_type": "code",
   "execution_count": null,
   "metadata": {
    "id": "ArmNRjttVRQi"
   },
   "outputs": [],
   "source": [
    "#df[df['stall'] == \"Yan Kee Noodle House - BK Eating House (Boat Quay)\"]['rating'].mean()"
   ]
  },
  {
   "cell_type": "markdown",
   "metadata": {
    "id": "gDJKh5O6pcnX"
   },
   "source": [
    "# POS Tagging"
   ]
  },
  {
   "cell_type": "code",
   "execution_count": null,
   "metadata": {
    "colab": {
     "base_uri": "https://localhost:8080/"
    },
    "id": "Relf9PNIpv8l",
    "outputId": "fdbfdb0c-a1e6-4c6f-8c6f-0c1b05d96f04"
   },
   "outputs": [
    {
     "name": "stderr",
     "output_type": "stream",
     "text": [
      "[nltk_data] Downloading package punkt to /root/nltk_data...\n",
      "[nltk_data]   Package punkt is already up-to-date!\n",
      "[nltk_data] Downloading package averaged_perceptron_tagger to\n",
      "[nltk_data]     /root/nltk_data...\n",
      "[nltk_data]   Package averaged_perceptron_tagger is already up-to-\n",
      "[nltk_data]       date!\n"
     ]
    },
    {
     "data": {
      "text/plain": [
       "[('If', 'IN'),\n",
       " ('you', 'PRP'),\n",
       " ('want', 'VBP'),\n",
       " ('to', 'TO'),\n",
       " ('have', 'VB'),\n",
       " ('the', 'DT'),\n",
       " ('Ah', 'NNP'),\n",
       " ('Hock', 'NNP'),\n",
       " ('Fried', 'NNP'),\n",
       " ('Hokkien', 'NNP'),\n",
       " ('Prawn', 'NNP'),\n",
       " ('Noodle', 'NNP'),\n",
       " (',', ','),\n",
       " ('you', 'PRP'),\n",
       " ('need', 'VBP'),\n",
       " ('to', 'TO'),\n",
       " ('have', 'VB'),\n",
       " ('lots', 'NNS'),\n",
       " ('of', 'IN'),\n",
       " ('patience', 'NN'),\n",
       " ('.', '.'),\n",
       " ('My', 'PRP$'),\n",
       " ('advice', 'NN'),\n",
       " ('is', 'VBZ'),\n",
       " ('to', 'TO'),\n",
       " ('place', 'VB'),\n",
       " ('your', 'PRP$'),\n",
       " ('order', 'NN'),\n",
       " ('and', 'CC'),\n",
       " ('go', 'VB'),\n",
       " ('for', 'IN'),\n",
       " ('other', 'JJ'),\n",
       " ('food', 'NN'),\n",
       " ('first', 'RB'),\n",
       " ('.', '.'),\n",
       " ('Usually', 'RB'),\n",
       " ('the', 'DT'),\n",
       " ('fried', 'JJ'),\n",
       " ('hokkien', 'NN'),\n",
       " ('prawn', 'NN'),\n",
       " ('noodle', 'NN'),\n",
       " ('will', 'MD'),\n",
       " ('take', 'VB'),\n",
       " ('30min', 'CD'),\n",
       " ('to', 'TO'),\n",
       " ('an', 'DT'),\n",
       " ('hour', 'NN'),\n",
       " ('.', '.'),\n",
       " ('I', 'PRP'),\n",
       " ('was', 'VBD'),\n",
       " ('there', 'RB'),\n",
       " ('on', 'IN'),\n",
       " ('saturday', 'NN'),\n",
       " ('at', 'IN'),\n",
       " ('about', 'IN'),\n",
       " ('6pm', 'CD'),\n",
       " (',', ','),\n",
       " ('the', 'DT'),\n",
       " ('stall', 'NN'),\n",
       " ('owner', 'NN'),\n",
       " ('asked', 'VBD'),\n",
       " ('me', 'PRP'),\n",
       " ('whether', 'IN'),\n",
       " ('i', 'NN'),\n",
       " ('can', 'MD'),\n",
       " ('wait', 'VB'),\n",
       " ('for', 'IN'),\n",
       " ('an', 'DT'),\n",
       " ('hour', 'NN'),\n",
       " ('for', 'IN'),\n",
       " ('the', 'DT'),\n",
       " ('hokkien', 'NN'),\n",
       " ('mee', 'NN'),\n",
       " ('!', '.'),\n",
       " ('Anyway', 'RB'),\n",
       " ('the', 'DT'),\n",
       " ('version', 'NN'),\n",
       " ('of', 'IN'),\n",
       " ('hokkien', 'NN'),\n",
       " ('mee', 'NN'),\n",
       " ('is', 'VBZ'),\n",
       " ('on', 'IN'),\n",
       " ('the', 'DT'),\n",
       " ('dry', 'JJ'),\n",
       " ('side', 'NN'),\n",
       " ('type', 'NN'),\n",
       " ('.', '.'),\n",
       " ('It', 'PRP'),\n",
       " ('also', 'RB'),\n",
       " ('has', 'VBZ'),\n",
       " ('more', 'JJR'),\n",
       " ('beehoon', 'NN'),\n",
       " ('then', 'RB'),\n",
       " ('yellow', 'JJ'),\n",
       " ('noodles', 'NNS'),\n",
       " ('.', '.'),\n",
       " ('The', 'DT'),\n",
       " ('beehoon', 'NN'),\n",
       " ('also', 'RB'),\n",
       " ('absorb', 'VBZ'),\n",
       " ('the', 'DT'),\n",
       " ('broth', 'NN'),\n",
       " ('better', 'RBR'),\n",
       " ('making', 'VBG'),\n",
       " ('the', 'DT'),\n",
       " ('plate', 'NN'),\n",
       " ('of', 'IN'),\n",
       " ('hokkien', 'NN'),\n",
       " ('mee', 'NN'),\n",
       " ('very', 'RB'),\n",
       " ('flavourful', 'JJ'),\n",
       " ('.', '.')]"
      ]
     },
     "execution_count": 110,
     "metadata": {},
     "output_type": "execute_result"
    }
   ],
   "source": [
    "import nltk\n",
    "nltk.download('punkt')\n",
    "nltk.download('averaged_perceptron_tagger')\n",
    "\n",
    "text1 = df['review'][random.randint(0,len(df)-1)]\n",
    "nltk.pos_tag(nltk.word_tokenize(text1))"
   ]
  },
  {
   "cell_type": "code",
   "execution_count": null,
   "metadata": {
    "colab": {
     "base_uri": "https://localhost:8080/"
    },
    "id": "lRYe0TFEsa-E",
    "outputId": "262bfb51-9533-44a0-bf1a-a85f20559381"
   },
   "outputs": [
    {
     "name": "stderr",
     "output_type": "stream",
     "text": [
      "[nltk_data] Downloading package universal_tagset to /root/nltk_data...\n",
      "[nltk_data]   Package universal_tagset is already up-to-date!\n"
     ]
    },
    {
     "data": {
      "text/plain": [
       "[('If', 'ADP'),\n",
       " ('you', 'PRON'),\n",
       " ('want', 'VERB'),\n",
       " ('to', 'PRT'),\n",
       " ('have', 'VERB'),\n",
       " ('the', 'DET'),\n",
       " ('Ah', 'NOUN'),\n",
       " ('Hock', 'NOUN'),\n",
       " ('Fried', 'NOUN'),\n",
       " ('Hokkien', 'NOUN'),\n",
       " ('Prawn', 'NOUN'),\n",
       " ('Noodle', 'NOUN'),\n",
       " (',', '.'),\n",
       " ('you', 'PRON'),\n",
       " ('need', 'VERB'),\n",
       " ('to', 'PRT'),\n",
       " ('have', 'VERB'),\n",
       " ('lots', 'NOUN'),\n",
       " ('of', 'ADP'),\n",
       " ('patience', 'NOUN'),\n",
       " ('.', '.'),\n",
       " ('My', 'PRON'),\n",
       " ('advice', 'NOUN'),\n",
       " ('is', 'VERB'),\n",
       " ('to', 'PRT'),\n",
       " ('place', 'VERB'),\n",
       " ('your', 'PRON'),\n",
       " ('order', 'NOUN'),\n",
       " ('and', 'CONJ'),\n",
       " ('go', 'VERB'),\n",
       " ('for', 'ADP'),\n",
       " ('other', 'ADJ'),\n",
       " ('food', 'NOUN'),\n",
       " ('first', 'ADV'),\n",
       " ('.', '.'),\n",
       " ('Usually', 'ADV'),\n",
       " ('the', 'DET'),\n",
       " ('fried', 'ADJ'),\n",
       " ('hokkien', 'NOUN'),\n",
       " ('prawn', 'NOUN'),\n",
       " ('noodle', 'NOUN'),\n",
       " ('will', 'VERB'),\n",
       " ('take', 'VERB'),\n",
       " ('30min', 'NUM'),\n",
       " ('to', 'PRT'),\n",
       " ('an', 'DET'),\n",
       " ('hour', 'NOUN'),\n",
       " ('.', '.'),\n",
       " ('I', 'PRON'),\n",
       " ('was', 'VERB'),\n",
       " ('there', 'ADV'),\n",
       " ('on', 'ADP'),\n",
       " ('saturday', 'NOUN'),\n",
       " ('at', 'ADP'),\n",
       " ('about', 'ADP'),\n",
       " ('6pm', 'NUM'),\n",
       " (',', '.'),\n",
       " ('the', 'DET'),\n",
       " ('stall', 'NOUN'),\n",
       " ('owner', 'NOUN'),\n",
       " ('asked', 'VERB'),\n",
       " ('me', 'PRON'),\n",
       " ('whether', 'ADP'),\n",
       " ('i', 'NOUN'),\n",
       " ('can', 'VERB'),\n",
       " ('wait', 'VERB'),\n",
       " ('for', 'ADP'),\n",
       " ('an', 'DET'),\n",
       " ('hour', 'NOUN'),\n",
       " ('for', 'ADP'),\n",
       " ('the', 'DET'),\n",
       " ('hokkien', 'NOUN'),\n",
       " ('mee', 'NOUN'),\n",
       " ('!', '.'),\n",
       " ('Anyway', 'ADV'),\n",
       " ('the', 'DET'),\n",
       " ('version', 'NOUN'),\n",
       " ('of', 'ADP'),\n",
       " ('hokkien', 'NOUN'),\n",
       " ('mee', 'NOUN'),\n",
       " ('is', 'VERB'),\n",
       " ('on', 'ADP'),\n",
       " ('the', 'DET'),\n",
       " ('dry', 'ADJ'),\n",
       " ('side', 'NOUN'),\n",
       " ('type', 'NOUN'),\n",
       " ('.', '.'),\n",
       " ('It', 'PRON'),\n",
       " ('also', 'ADV'),\n",
       " ('has', 'VERB'),\n",
       " ('more', 'ADJ'),\n",
       " ('beehoon', 'NOUN'),\n",
       " ('then', 'ADV'),\n",
       " ('yellow', 'ADJ'),\n",
       " ('noodles', 'NOUN'),\n",
       " ('.', '.'),\n",
       " ('The', 'DET'),\n",
       " ('beehoon', 'NOUN'),\n",
       " ('also', 'ADV'),\n",
       " ('absorb', 'VERB'),\n",
       " ('the', 'DET'),\n",
       " ('broth', 'NOUN'),\n",
       " ('better', 'ADV'),\n",
       " ('making', 'VERB'),\n",
       " ('the', 'DET'),\n",
       " ('plate', 'NOUN'),\n",
       " ('of', 'ADP'),\n",
       " ('hokkien', 'NOUN'),\n",
       " ('mee', 'NOUN'),\n",
       " ('very', 'ADV'),\n",
       " ('flavourful', 'ADJ'),\n",
       " ('.', '.')]"
      ]
     },
     "execution_count": 111,
     "metadata": {},
     "output_type": "execute_result"
    }
   ],
   "source": [
    "# Use the universal tag set. The 12 universal tags are:\n",
    "\n",
    "#VERB - verbs (all tenses and modes)\n",
    "#NOUN - nouns (common and proper)\n",
    "#PRON - pronouns\n",
    "#ADJ - adjectives\n",
    "#ADV - adverbs\n",
    "#ADP - adpositions (prepositions and postpositions)\n",
    "#CONJ - conjunctions\n",
    "#DET - determiners\n",
    "#NUM - cardinal numbers\n",
    "#PRT - particles or other function words\n",
    "#X - other: foreign words, typos, abbreviations\n",
    "#. - punctuation\n",
    "\n",
    "nltk.download('universal_tagset')\n",
    "nltk.tag.pos_tag(nltk.tokenize.word_tokenize(text1), tagset='universal')"
   ]
  },
  {
   "cell_type": "code",
   "execution_count": null,
   "metadata": {
    "colab": {
     "base_uri": "https://localhost:8080/"
    },
    "id": "pvvksSsFw1x4",
    "outputId": "f995b536-67b3-4343-d9f1-4c91877112e1"
   },
   "outputs": [
    {
     "data": {
      "text/plain": [
       "['If you want to have the Ah Hock Fried Hokkien Prawn Noodle, you need to have lots of patience.',\n",
       " 'My advice is to place your order and go for other food first.',\n",
       " 'Usually the fried hokkien prawn noodle will take 30min to an hour.',\n",
       " 'I was there on saturday at about 6pm, the stall owner asked me whether i can wait for an hour for the hokkien mee!',\n",
       " 'Anyway the version of hokkien mee is on the dry side type.',\n",
       " 'It also has more beehoon then yellow noodles.',\n",
       " 'The beehoon also absorb the broth better making the plate of hokkien mee very flavourful.']"
      ]
     },
     "execution_count": 112,
     "metadata": {},
     "output_type": "execute_result"
    }
   ],
   "source": [
    "nltk.sent_tokenize(text1)"
   ]
  },
  {
   "cell_type": "code",
   "execution_count": null,
   "metadata": {
    "colab": {
     "base_uri": "https://localhost:8080/",
     "height": 526
    },
    "id": "RM03tuy-v_fP",
    "outputId": "2933c325-f1d2-4235-ecad-8f86bd0ee2c5"
   },
   "outputs": [
    {
     "name": "stdout",
     "output_type": "stream",
     "text": [
      "[('NN', 26), ('IN', 12), ('DT', 11), ('RB', 8), ('.', 7), ('VB', 6), ('NNP', 6), ('PRP', 5), ('JJ', 5), ('TO', 4), ('VBZ', 4), ('VBP', 2), (',', 2), ('NNS', 2), ('PRP$', 2), ('MD', 2), ('CD', 2), ('VBD', 2), ('CC', 1), ('JJR', 1), ('RBR', 1), ('VBG', 1)]\n"
     ]
    },
    {
     "data": {
      "image/png": "[encoded data removed]",
      "text/plain": [
       "<Figure size 640x480 with 1 Axes>"
      ]
     },
     "metadata": {},
     "output_type": "display_data"
    },
    {
     "data": {
      "text/plain": [
       "<Axes: xlabel='Samples', ylabel='Cumulative Counts'>"
      ]
     },
     "execution_count": 113,
     "metadata": {},
     "output_type": "execute_result"
    }
   ],
   "source": [
    "# Plot the frequency distribution of the tags using the plot method\n",
    "\n",
    "review_tagged = nltk.tag.pos_tag(nltk.word_tokenize(text1))\n",
    "tag_fd = nltk.FreqDist(tag for (word, tag) in review_tagged)\n",
    "print(tag_fd.most_common())\n",
    "tag_fd.plot(cumulative=True)"
   ]
  },
  {
   "cell_type": "code",
   "execution_count": null,
   "metadata": {
    "colab": {
     "base_uri": "https://localhost:8080/"
    },
    "id": "veqvJcCP-8Ob",
    "outputId": "12e4e7ab-5eb4-4c7c-cb14-3442f7ba57be"
   },
   "outputs": [
    {
     "data": {
      "text/plain": [
       "[[('I', 'PRP'), ('love', 'VBP'), ('computing', 'VBG'), ('.', '.')],\n",
       " [('Do', 'VBP'), (\"n't\", 'RB'), ('you', 'PRP'), ('?', '.')]]"
      ]
     },
     "execution_count": 114,
     "metadata": {},
     "output_type": "execute_result"
    }
   ],
   "source": [
    "# For efficient tagging of more than one sentence, use pos_tag_sents()\n",
    "\n",
    "text2 = \"I love computing. Don't you?\"\n",
    "#nltk.tag.pos_tag_sents(list(text2))\n",
    "nltk.tag.pos_tag_sents([nltk.word_tokenize(t) for t in nltk.sent_tokenize(text2)])"
   ]
  },
  {
   "cell_type": "markdown",
   "metadata": {
    "id": "SY2tx8ocye_c"
   },
   "source": [
    "# Preprocess the data"
   ]
  },
  {
   "cell_type": "code",
   "execution_count": null,
   "metadata": {
    "id": "AqgQHrR5yibY"
   },
   "outputs": [],
   "source": [
    "# Filter out non-English text\n",
    "\n",
    "def filter_eng(s):\n",
    "    text = ''\n",
    "    for x in str(s):\n",
    "        if x.isascii() == 1:\n",
    "            text = text + x\n",
    "    return text\n",
    "\n",
    "df['review'] = df['review'].map(filter_eng)"
   ]
  },
  {
   "cell_type": "code",
   "execution_count": null,
   "metadata": {
    "id": "BoS5A0giyjPJ"
   },
   "outputs": [],
   "source": [
    "# Encode ratings of 2's as 1 and ratings of 1's and 0's as 0\n",
    "\n",
    "import numpy as np\n",
    "df['rating'] = np.where(df['rating'] > 1, 1, 0)"
   ]
  },
  {
   "cell_type": "code",
   "execution_count": null,
   "metadata": {
    "colab": {
     "base_uri": "https://localhost:8080/"
    },
    "id": "DK1cHwrfyji5",
    "outputId": "17a18e46-3d15-4526-e1ce-e6f3d8af6bd5"
   },
   "outputs": [
    {
     "data": {
      "text/plain": [
       "0.7565575547366139"
      ]
     },
     "execution_count": 117,
     "metadata": {},
     "output_type": "execute_result"
    }
   ],
   "source": [
    "# Note that most ratings are positive - so the dataset is imbalanced\n",
    "\n",
    "df['rating'].mean()"
   ]
  },
  {
   "cell_type": "code",
   "execution_count": null,
   "metadata": {
    "colab": {
     "base_uri": "https://localhost:8080/"
    },
    "id": "ZLAd31Nnzni0",
    "outputId": "7d212f86-5917-401f-bf77-62171076cfc3"
   },
   "outputs": [
    {
     "name": "stdout",
     "output_type": "stream",
     "text": [
      "X_train first entry:\n",
      "\n",
      " We went to Wan Xing Nasi Lemak at Albert Food Centre and ordered Nasi Lemak Set. Their rice is hot, fluffy and palatable. Chicken wing is crispy and succulent. Luncheon Meat and Fried Fish Fillet was cold and soggy but still edible. Fried cabbage is slightly on the oily side. Ikan Bilis is unfortunately stale. Their sambal chili is sweet and mild. I would go back for the rice and chicken wings.\n",
      "\n",
      "\n",
      "X_train shape:  (3459,)\n"
     ]
    }
   ],
   "source": [
    "# Split the data into training and test sets\n",
    "\n",
    "from sklearn.model_selection import train_test_split\n",
    "\n",
    "# Split data into training and test sets\n",
    "X_train, X_test, y_train, y_test = train_test_split(df['review'],\n",
    "                                                    df['rating'],\n",
    "                                                    random_state=0)\n",
    "\n",
    "# Inspect the training set\n",
    "\n",
    "print('X_train first entry:\\n\\n', X_train.iloc[0])\n",
    "print('\\n\\nX_train shape: ', X_train.shape)"
   ]
  },
  {
   "cell_type": "markdown",
   "metadata": {
    "id": "MiiW08Rq0I20"
   },
   "source": [
    "# CountVectorizer"
   ]
  },
  {
   "cell_type": "code",
   "execution_count": null,
   "metadata": {
    "colab": {
     "base_uri": "https://localhost:8080/"
    },
    "id": "eJz5inGx0Nk9",
    "outputId": "e76f61a1-06f8-4790-8caf-08fe181a91bd"
   },
   "outputs": [
    {
     "data": {
      "text/plain": [
       "11813"
      ]
     },
     "execution_count": 119,
     "metadata": {},
     "output_type": "execute_result"
    }
   ],
   "source": [
    "from sklearn.feature_extraction.text import CountVectorizer\n",
    "\n",
    "vect = CountVectorizer().fit(X_train)\n",
    "len(vect.get_feature_names_out())"
   ]
  },
  {
   "cell_type": "code",
   "execution_count": null,
   "metadata": {
    "colab": {
     "base_uri": "https://localhost:8080/"
    },
    "id": "Wg9ix5EJvYbc",
    "outputId": "c5213d8d-f66c-48db-c08c-90a5506ac107"
   },
   "outputs": [
    {
     "data": {
      "text/plain": [
       "array(['00', '16jan2015', '24mar2015', '4pax', '820pm', 'account',\n",
       "       'affiliated', 'aloe', 'anyway', 'arrives', 'aunties', 'balachan',\n",
       "       'beams', 'bergedel', 'blendless', 'bottoms', 'brocolli', 'butter',\n",
       "       'care', 'certain', 'cheerily', 'chomp', 'claypots', 'coldest',\n",
       "       'complains', 'conquer', 'cooling', 'craving', 'culet', 'dary',\n",
       "       'delicately', 'devil', 'disappoint', 'dog', 'drive', 'east',\n",
       "       'employer', 'eons', 'excess', 'f1', 'favorable', 'finds', 'floors',\n",
       "       'former', 'frosty', 'gathering', 'gloss', 'granted', 'gut',\n",
       "       'harmonizing', 'heibee', 'hoe', 'housing', 'ignoring',\n",
       "       'indescribable', 'intake', 'itsbeing', 'juicier', 'kicks', 'kue',\n",
       "       'laudable', 'level', 'load', 'luc', 'malay', 'masters', 'memorise',\n",
       "       'mingled', 'mongolian', 'munching', 'neighborhood', 'nor',\n",
       "       'occasions', 'ooomph', 'outing', 'pairing', 'patronising',\n",
       "       'permeats', 'pity', 'popcorn', 'pregnant', 'promenade', 'purpose',\n",
       "       'rajak', 'recently', 'relationship', 'requested', 'rewards',\n",
       "       'routine', 'san', 'scholar', 'seep', 'severely', 'shoot', 'sik',\n",
       "       'skin', 'snap', 'soupsop', 'spin', 'stalls', 'stinky', 'studying',\n",
       "       'superd', 'swore', 'tasks', 'teochow', 'thomson', 'tipoh',\n",
       "       'touches', 'troop', 'un', 'unnatural', 'variety', 'vongole',\n",
       "       'weak', 'whoever', 'word', 'yearn', 'zhong'], dtype=object)"
      ]
     },
     "execution_count": 120,
     "metadata": {},
     "output_type": "execute_result"
    }
   ],
   "source": [
    "vect.get_feature_names_out()[::100]"
   ]
  },
  {
   "cell_type": "code",
   "execution_count": null,
   "metadata": {
    "colab": {
     "base_uri": "https://localhost:8080/"
    },
    "id": "FrnmhDna0pom",
    "outputId": "61820a52-5a66-44ee-9eda-6a0718a4f556"
   },
   "outputs": [
    {
     "data": {
      "text/plain": [
       "<3459x11813 sparse matrix of type '<class 'numpy.int64'>'\n",
       "\twith 289368 stored elements in Compressed Sparse Row format>"
      ]
     },
     "execution_count": 121,
     "metadata": {},
     "output_type": "execute_result"
    }
   ],
   "source": [
    "X_train_vectorized = vect.transform(X_train)\n",
    "X_train_vectorized"
   ]
  },
  {
   "cell_type": "code",
   "execution_count": null,
   "metadata": {
    "colab": {
     "base_uri": "https://localhost:8080/"
    },
    "id": "otNjTXIF03Tj",
    "outputId": "f86d3fef-69ce-4ded-a3ef-6d99fbff45bc"
   },
   "outputs": [
    {
     "name": "stdout",
     "output_type": "stream",
     "text": [
      "Accuracy score:  0.7599653379549394\n",
      "AUC score:  0.6480252456243087\n"
     ]
    }
   ],
   "source": [
    "from sklearn.linear_model import LogisticRegression\n",
    "from sklearn.metrics import accuracy_score, roc_auc_score\n",
    "\n",
    "model = LogisticRegression(max_iter=1000)\n",
    "model.fit(X_train_vectorized, y_train)\n",
    "\n",
    "predictions = model.predict(vect.transform(X_test))\n",
    "\n",
    "# Due to data imbalance, model performance may be better assessed by the AUC score than by the accuracy score.\n",
    "\n",
    "print('Accuracy score: ', accuracy_score(y_test, predictions))\n",
    "print('AUC score: ', roc_auc_score(y_test, predictions))"
   ]
  },
  {
   "cell_type": "code",
   "execution_count": null,
   "metadata": {
    "colab": {
     "base_uri": "https://localhost:8080/",
     "height": 449
    },
    "id": "tTgCdTSpsg9V",
    "outputId": "20e5a68d-7bc7-4bb9-a74c-91292e4b41ef"
   },
   "outputs": [
    {
     "data": {
      "image/png": "[encoded data removed]",
      "text/plain": [
       "<Figure size 640x480 with 1 Axes>"
      ]
     },
     "metadata": {},
     "output_type": "display_data"
    }
   ],
   "source": [
    "import matplotlib.pyplot as plt\n",
    "import sklearn.metrics as metrics\n",
    "\n",
    "y_pred_proba = model.predict_proba(vect.transform(X_test))[::,1]\n",
    "fpr, tpr, _ = metrics.roc_curve(y_test,  y_pred_proba)\n",
    "\n",
    "plt.plot(fpr,tpr, label=\"AUC=\"+str(roc_auc_score(y_test, predictions)))\n",
    "plt.ylabel('True Positive Rate')\n",
    "plt.xlabel('False Positive Rate')\n",
    "plt.legend(loc=\"best\")\n",
    "plt.show()"
   ]
  },
  {
   "cell_type": "code",
   "execution_count": null,
   "metadata": {
    "colab": {
     "base_uri": "https://localhost:8080/"
    },
    "id": "DoDiUWN71ZrB",
    "outputId": "24d1165e-2bf8-4f3a-b7c8-a3b349668e61"
   },
   "outputs": [
    {
     "name": "stdout",
     "output_type": "stream",
     "text": [
      "Smallest Coefs:\n",
      "['bland' 'disappointed' 'alright' 'okay' 'herbal' 'tissue' 'disappointing'\n",
      " 'lacked' 'mentioned' 'could']\n",
      "\n",
      "Largest Coefs: \n",
      "['awesome' 'nor' 'glad' 'bits' 'yummy' 'raw' 'heavy' 'loved' 'fishcakes'\n",
      " 'friendly']\n"
     ]
    }
   ],
   "source": [
    "feature_names = np.array(vect.get_feature_names_out())\n",
    "\n",
    "# Sort the coefficients from the model\n",
    "sorted_coef_index = model.coef_[0].argsort()\n",
    "\n",
    "# Find the 10 smallest and 10 largest coefficients\n",
    "# The 10 largest coefficients are being indexed using [:-11:-1]\n",
    "# so the list returned is in order of largest to smallest\n",
    "print('Smallest Coefs:\\n{}\\n'.format(feature_names[sorted_coef_index[:10]]))\n",
    "print('Largest Coefs: \\n{}'.format(feature_names[sorted_coef_index[:-11:-1]]))"
   ]
  },
  {
   "cell_type": "markdown",
   "metadata": {
    "id": "FlRvlRcG1u0R"
   },
   "source": [
    "# Pre-processing With POS-Tagging"
   ]
  },
  {
   "cell_type": "code",
   "execution_count": null,
   "metadata": {
    "colab": {
     "base_uri": "https://localhost:8080/"
    },
    "id": "aSaEbocq1yW0",
    "outputId": "350dfef9-8b28-4953-9d2e-f0100337a853"
   },
   "outputs": [
    {
     "name": "stderr",
     "output_type": "stream",
     "text": [
      "[nltk_data] Downloading package punkt to /root/nltk_data...\n",
      "[nltk_data]   Package punkt is already up-to-date!\n",
      "[nltk_data] Downloading package averaged_perceptron_tagger to\n",
      "[nltk_data]     /root/nltk_data...\n",
      "[nltk_data]   Package averaged_perceptron_tagger is already up-to-\n",
      "[nltk_data]       date!\n"
     ]
    }
   ],
   "source": [
    "import nltk\n",
    "nltk.download('punkt')\n",
    "nltk.download('averaged_perceptron_tagger')\n",
    "from nltk.tokenize import sent_tokenize\n",
    "\n",
    "# Filter out tokens tagged with one of the following categories: CC (conjunction, coordinating), CD (digit, cardinal),\n",
    "# DT (determiner), IN (preposition and conjunction), LS (list marker), NNS/NNP/NNPS (proper and plural noun),\n",
    "# PRP/PRP$ (pronoun, personal and professional)\n",
    "\n",
    "def preprocess_text(text):\n",
    "    tokens = nltk.word_tokenize(text)\n",
    "    sent = ''\n",
    "    for s in nltk.pos_tag(tokens):\n",
    "        if not s[1] in {'CC','CD','DT', 'IN', 'LS', 'NNS', 'NNP', 'NNPS', 'PRP', 'PRP\\$'}:\n",
    "            sent = sent + ' ' + (s[0])\n",
    "    return \" \".join(sent.split())\n",
    "\n",
    "X_train_preprocessed = X_train.map(preprocess_text)"
   ]
  },
  {
   "cell_type": "code",
   "execution_count": null,
   "metadata": {
    "id": "Se6pfZTZ4BSz"
   },
   "outputs": [],
   "source": [
    "# Fit the CountVectorizer to the training data specifiying a minimum document frequency of 5 and extracting 1-grams and 2-grams\n",
    "\n",
    "vect = CountVectorizer(min_df=5, ngram_range=(1,2)).fit(X_train_preprocessed)\n",
    "\n",
    "X_train_vectorized = vect.transform(X_train_preprocessed)"
   ]
  },
  {
   "cell_type": "code",
   "execution_count": null,
   "metadata": {
    "colab": {
     "base_uri": "https://localhost:8080/"
    },
    "id": "ax7sF1U_43QP",
    "outputId": "d2e1af82-be9e-4ebf-d04f-96393c9170d0"
   },
   "outputs": [
    {
     "data": {
      "text/plain": [
       "10909"
      ]
     },
     "execution_count": 127,
     "metadata": {},
     "output_type": "execute_result"
    }
   ],
   "source": [
    "len(vect.get_feature_names_out())"
   ]
  },
  {
   "cell_type": "code",
   "execution_count": null,
   "metadata": {
    "colab": {
     "base_uri": "https://localhost:8080/"
    },
    "id": "yCpMPaaA5hOm",
    "outputId": "d27992f1-9329-492a-9342-b9738185ace7"
   },
   "outputs": [
    {
     "data": {
      "text/plain": [
       "array(['01', 'additional', 'also add', 'am there', 'are just', 'asked to',\n",
       "       'based', 'bean sprout', 'best fried', 'bland', 'braised sauce',\n",
       "       'ca find', 'carrot cake', 'chewiness', 'chinese sausage',\n",
       "       'colleague', 'concentrated', 'costs which', 'crispy their',\n",
       "       'day are', 'dessert stall', 'dish stall', 'drawn to', 'eat will',\n",
       "       'enjoyed my', 'expectation', 'far my', 'find place',\n",
       "       'flavour that', 'for money', 'fresh used', 'full reviews', 'gives',\n",
       "       'good must', 'great snack', 'hand made', 'have had', 'hearing',\n",
       "       'hit', 'http ieatandeat', 'infused', 'is delicious', 'is none',\n",
       "       'is that', 'joined', 'kept', 'laksa which', 'life',\n",
       "       'located right', 'luck', 'management', 'meat gravy', 'merely',\n",
       "       'more decade', 'much can', 'my meal', 'never fail', 'noodle has',\n",
       "       'not overwhelming', 'oil', 'opened till', 'ordering my',\n",
       "       'overall enjoyed', 'paste chicken', 'pig stomach', 'pok fish',\n",
       "       'powerful', 'primary school', 'queue was', 'rarely',\n",
       "       'really thick', 'required', 'rice pork', 'saba fish',\n",
       "       'sauce stall', 'seen', 'sg', 'sign', 'slurping', 'so oily',\n",
       "       'sotong prawn', 'spectacular', 'stall ever', 'steep', 'stuffed',\n",
       "       'sweet are', 'taste', 'tasted quite', 'tender skin',\n",
       "       'their chilli', 'there can', 'thinking', 'to', 'to had',\n",
       "       'to remove', 'toast set', 'too well', 'try laksa', 'up so',\n",
       "       'very cold', 'visiting', 'was chicken', 'was ok', 'washed',\n",
       "       'went there', 'when bite', 'which tasted', 'will satisfy',\n",
       "       'would only', 'yummy is'], dtype=object)"
      ]
     },
     "execution_count": 128,
     "metadata": {},
     "output_type": "execute_result"
    }
   ],
   "source": [
    "vect.get_feature_names_out()[::100]"
   ]
  },
  {
   "cell_type": "code",
   "execution_count": null,
   "metadata": {
    "colab": {
     "base_uri": "https://localhost:8080/"
    },
    "id": "EBTE5zo44QFK",
    "outputId": "41d8c20c-21d4-4ae2-b60a-a9d39606bfb6"
   },
   "outputs": [
    {
     "name": "stdout",
     "output_type": "stream",
     "text": [
      "Accuracy score:  0.7599653379549394\n",
      "AUC score:  0.6276311080746958\n"
     ]
    }
   ],
   "source": [
    "model = LogisticRegression(max_iter=1000)\n",
    "model.fit(X_train_vectorized, y_train)\n",
    "\n",
    "predictions = model.predict(vect.transform(X_test))\n",
    "\n",
    "print('Accuracy score: ', accuracy_score(y_test, predictions))\n",
    "print('AUC score: ', roc_auc_score(y_test, predictions))"
   ]
  },
  {
   "cell_type": "code",
   "execution_count": null,
   "metadata": {
    "colab": {
     "base_uri": "https://localhost:8080/",
     "height": 449
    },
    "id": "cdvp0KBNwP4w",
    "outputId": "5f89e7a2-018d-42de-f45e-1e047550f1ae"
   },
   "outputs": [
    {
     "data": {
      "image/png": "[encoded data removed]",
      "text/plain": [
       "<Figure size 640x480 with 1 Axes>"
      ]
     },
     "metadata": {},
     "output_type": "display_data"
    }
   ],
   "source": [
    "y_pred_proba = model.predict_proba(vect.transform(X_test))[::,1]\n",
    "fpr, tpr, _ = metrics.roc_curve(y_test,  y_pred_proba)\n",
    "\n",
    "plt.plot(fpr,tpr, label=\"AUC=\"+str(roc_auc_score(y_test, predictions)))\n",
    "plt.ylabel('True Positive Rate')\n",
    "plt.xlabel('False Positive Rate')\n",
    "plt.legend(loc=\"best\")\n",
    "plt.show()"
   ]
  },
  {
   "cell_type": "code",
   "execution_count": null,
   "metadata": {
    "colab": {
     "base_uri": "https://localhost:8080/"
    },
    "id": "3bEZl-r_4ftx",
    "outputId": "31eb7297-34ff-4317-abf3-aabea564ecdb"
   },
   "outputs": [
    {
     "name": "stdout",
     "output_type": "stream",
     "text": [
      "Smallest Coefs:\n",
      "['alright' 'still prefer' 'bland' 'lacked' 'disappointed' 'disappointing'\n",
      " 'could have' 'sauce which' 'however' 'herbal']\n",
      "\n",
      "Largest Coefs: \n",
      "['awesome' 'not too' 'love' 'yummy' 'think is' 'not bad' 'whenever'\n",
      " 'savoury' 'good food' 'great']\n"
     ]
    }
   ],
   "source": [
    "feature_names = np.array(vect.get_feature_names_out())\n",
    "\n",
    "sorted_coef_index = model.coef_[0].argsort()\n",
    "\n",
    "print('Smallest Coefs:\\n{}\\n'.format(feature_names[sorted_coef_index[:10]]))\n",
    "print('Largest Coefs: \\n{}'.format(feature_names[sorted_coef_index[:-11:-1]]))"
   ]
  },
  {
   "cell_type": "markdown",
   "metadata": {
    "id": "NvgW2har42H4"
   },
   "source": [
    "# TfidVectorizer"
   ]
  },
  {
   "cell_type": "code",
   "execution_count": null,
   "metadata": {
    "colab": {
     "base_uri": "https://localhost:8080/"
    },
    "id": "hKwWWf-l43ZU",
    "outputId": "9cee9147-86f0-45de-d751-c8457c50cd9a"
   },
   "outputs": [
    {
     "data": {
      "text/plain": [
       "3947"
      ]
     },
     "execution_count": 132,
     "metadata": {},
     "output_type": "execute_result"
    }
   ],
   "source": [
    "from sklearn.feature_extraction.text import TfidfVectorizer\n",
    "\n",
    "# Fit the TfidfVectorizer to the training data specifiying a minimum document frequency of 5\n",
    "vect = TfidfVectorizer(min_df=5).fit(X_train)\n",
    "X_train_vectorized = vect.transform(X_train)\n",
    "len(vect.get_feature_names_out())"
   ]
  },
  {
   "cell_type": "code",
   "execution_count": null,
   "metadata": {
    "colab": {
     "base_uri": "https://localhost:8080/"
    },
    "id": "23xbBEM-qoQj",
    "outputId": "1542ee31-2fde-474c-e25b-4d4d2e6706b0"
   },
   "outputs": [
    {
     "data": {
      "text/plain": [
       "array(['00', 'abundance', 'and', 'ball', 'bitter', 'bursting', 'cheerful',\n",
       "       'collagen', 'contrary', 'current', 'din', 'easily', 'expecting',\n",
       "       'finely', 'friendly', 'granted', 'heavy', 'hygiene', 'item', 'kut',\n",
       "       'list', 'many', 'mistake', 'ng', 'opinion', 'parts', 'pleasantly',\n",
       "       'promotion', 'recommendations', 'rou', 'see', 'shui', 'someone',\n",
       "       'start', 'suppose', 'terms', 'topping', 'unusual', 'week', 'www'],\n",
       "      dtype=object)"
      ]
     },
     "execution_count": 133,
     "metadata": {},
     "output_type": "execute_result"
    }
   ],
   "source": [
    "vect.get_feature_names_out()[::100]"
   ]
  },
  {
   "cell_type": "code",
   "execution_count": null,
   "metadata": {
    "colab": {
     "base_uri": "https://localhost:8080/"
    },
    "id": "pmseB2KE5SRT",
    "outputId": "aa4ecf0c-9d72-42de-d889-295cd29bcb61"
   },
   "outputs": [
    {
     "name": "stdout",
     "output_type": "stream",
     "text": [
      "Accuracy score:  0.770363951473137\n",
      "AUC score:  0.5529352918211985\n"
     ]
    }
   ],
   "source": [
    "model = LogisticRegression(max_iter=1000)\n",
    "model.fit(X_train_vectorized, y_train)\n",
    "\n",
    "predictions = model.predict(vect.transform(X_test))\n",
    "\n",
    "print('Accuracy score: ', accuracy_score(y_test, predictions))\n",
    "print('AUC score: ', roc_auc_score(y_test, predictions))"
   ]
  },
  {
   "cell_type": "code",
   "execution_count": null,
   "metadata": {
    "colab": {
     "base_uri": "https://localhost:8080/",
     "height": 449
    },
    "id": "gO1l4ITrwSJM",
    "outputId": "2a8005e2-374b-4d6d-99a6-ec94150e74e1"
   },
   "outputs": [
    {
     "data": {
      "image/png": "[encoded data removed]",
      "text/plain": [
       "<Figure size 640x480 with 1 Axes>"
      ]
     },
     "metadata": {},
     "output_type": "display_data"
    }
   ],
   "source": [
    "y_pred_proba = model.predict_proba(vect.transform(X_test))[::,1]\n",
    "fpr, tpr, _ = metrics.roc_curve(y_test,  y_pred_proba)\n",
    "\n",
    "plt.plot(fpr,tpr, label=\"AUC=\"+str(roc_auc_score(y_test, predictions)))\n",
    "plt.ylabel('True Positive Rate')\n",
    "plt.xlabel('False Positive Rate')\n",
    "plt.legend(loc=\"best\")\n",
    "plt.show()"
   ]
  },
  {
   "cell_type": "code",
   "execution_count": null,
   "metadata": {
    "colab": {
     "base_uri": "https://localhost:8080/"
    },
    "id": "Vq2JGlTx5roW",
    "outputId": "567f1491-8c20-451d-f98f-3bd51eb7f3a5"
   },
   "outputs": [
    {
     "name": "stdout",
     "output_type": "stream",
     "text": [
      "Smallest tfidf:\n",
      "['devil' 'chubbybotakkoala' 'browser' 'ivanteh' 'runningman' 'foodiefc'\n",
      " 'comparing' 'april' 'image' 'bloggers']\n",
      "\n",
      "Largest tfidf: \n",
      "['block' '10' 'qq' '30' 'nan' '15' 'pancake' 'mrt' 'tray' 'pau']\n"
     ]
    }
   ],
   "source": [
    "feature_names = np.array(vect.get_feature_names_out())\n",
    "\n",
    "sorted_tfidf_index = X_train_vectorized.max(0).toarray()[0].argsort()\n",
    "\n",
    "print('Smallest tfidf:\\n{}\\n'.format(feature_names[sorted_tfidf_index[:10]]))\n",
    "print('Largest tfidf: \\n{}'.format(feature_names[sorted_tfidf_index[:-11:-1]]))"
   ]
  },
  {
   "cell_type": "code",
   "execution_count": null,
   "metadata": {
    "colab": {
     "base_uri": "https://localhost:8080/"
    },
    "id": "YuT6W4urVtg-",
    "outputId": "b5f6847d-f8c8-4f9f-fe89-e56fbcf7b6de"
   },
   "outputs": [
    {
     "name": "stdout",
     "output_type": "stream",
     "text": [
      "Smallest Coefs:\n",
      "['not' 'quite' 'however' 'average' 'bland' 'disappointed' 'but' 'set'\n",
      " 'bad' 'nothing']\n",
      "\n",
      "Largest Coefs: \n",
      "['you' 'love' 'also' 'delicious' 'best' 'very' 'tender' 'good' 'great'\n",
      " 'yummy']\n"
     ]
    }
   ],
   "source": [
    "sorted_coef_index = model.coef_[0].argsort()\n",
    "\n",
    "print('Smallest Coefs:\\n{}\\n'.format(feature_names[sorted_coef_index[:10]]))\n",
    "print('Largest Coefs: \\n{}'.format(feature_names[sorted_coef_index[:-11:-1]]))"
   ]
  }
 ],
 "metadata": {
  "accelerator": "GPU",
  "colab": {
   "gpuType": "T4",
   "provenance": []
  },
  "kernelspec": {
   "display_name": "Python 3 (ipykernel)",
   "language": "python",
   "name": "python3"
  },
  "language_info": {
   "codemirror_mode": {
    "name": "ipython",
    "version": 3
   },
   "file_extension": ".py",
   "mimetype": "text/x-python",
   "name": "python",
   "nbconvert_exporter": "python",
   "pygments_lexer": "ipython3",
   "version": "3.11.0"
  }
 },
 "nbformat": 4,
 "nbformat_minor": 1
}
